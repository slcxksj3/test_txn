{
 "cells": [
  {
   "cell_type": "code",
   "execution_count": null,
   "id": "e6c5a83c",
   "metadata": {},
   "outputs": [],
   "source": [
    "import os, json\n",
    "from brownie import Contract, network, accounts"
   ]
  },
  {
   "cell_type": "markdown",
   "id": "9ef5ed17",
   "metadata": {},
   "source": [
    "#### connect to avalanche network"
   ]
  },
  {
   "cell_type": "code",
   "execution_count": null,
   "id": "59864306",
   "metadata": {},
   "outputs": [],
   "source": [
    "network_name = 'avax-main'\n",
    "network.connect(network_name)"
   ]
  },
  {
   "cell_type": "markdown",
   "id": "f9fbf603",
   "metadata": {},
   "source": [
    "#### load usdc and aave pool contracts"
   ]
  },
  {
   "cell_type": "code",
   "execution_count": null,
   "id": "d7ffa406",
   "metadata": {},
   "outputs": [],
   "source": [
    "usdc = Contract.from_explorer('0xB97EF9Ef8734C71904D8002F8b6Bc66Dd9c48a6E')\n",
    "usdc"
   ]
  },
  {
   "cell_type": "markdown",
   "id": "dd4d5fb3",
   "metadata": {},
   "source": [
    "using usdc erc20 abi for aave deposit token since only need this to call balance"
   ]
  },
  {
   "cell_type": "code",
   "execution_count": null,
   "id": "464bbdf4",
   "metadata": {},
   "outputs": [],
   "source": [
    "aAvaUSDC = Contract.from_abi('aAvaUSDC', '0x625E7708f30cA75bfd92586e17077590C60eb4cD', usdc.abi)"
   ]
  },
  {
   "cell_type": "markdown",
   "id": "e5c4c427",
   "metadata": {},
   "source": [
    "aave V3 contracts not verified and ABI not avaiable on block explorer so pulled abi from npm package: https://github.com/aave/aave-v3-core#getting-started\n",
    "\n",
    "node:\n",
    "```\n",
    "const PoolV3Artifact = require('@aave/core-v3/artifacts/contracts/protocol/pool/Pool.sol/Pool.json');\n",
    "const abi = JSON.stringify(PoolV3Artifact.abi)\n",
    "\n",
    "const fs = require('fs');\n",
    "fs.writeFile(\"aave_v3_pool_abi.json\", abi, 'utf8', function (err) {\n",
    "    if (err) {\n",
    "        console.log(\"An error occured while writing JSON Object to File.\");\n",
    "        return console.log(err);\n",
    "    }\n",
    "\n",
    "    console.log(\"JSON file has been saved.\");\n",
    "});\n",
    "```"
   ]
  },
  {
   "cell_type": "code",
   "execution_count": null,
   "id": "f4154781",
   "metadata": {},
   "outputs": [],
   "source": [
    "with open('aave_v3_pool_abi.json', 'r') as f:\n",
    "    abi = json.load(f)\n",
    "\n",
    "aave_pool = Contract.from_abi('Aave V3 Pool', '0x794a61358d6845594f94dc1db02a252b5b4814ad', abi)"
   ]
  },
  {
   "cell_type": "markdown",
   "id": "43cc4047",
   "metadata": {},
   "source": [
    "#### load account  "
   ]
  },
  {
   "cell_type": "code",
   "execution_count": null,
   "id": "c0f4f6ed",
   "metadata": {},
   "outputs": [],
   "source": [
    "acc = accounts.add(os.environ['ACC_PRIVATE_KEY'])"
   ]
  },
  {
   "cell_type": "markdown",
   "id": "84330b2d",
   "metadata": {},
   "source": [
    "# TO DO: replace `acc` with fireblocks connection logic"
   ]
  },
  {
   "cell_type": "code",
   "execution_count": null,
   "id": "770a7062",
   "metadata": {},
   "outputs": [],
   "source": [
    "acc = "
   ]
  },
  {
   "cell_type": "markdown",
   "id": "5b8ce346",
   "metadata": {},
   "source": [
    "#### check account balances"
   ]
  },
  {
   "cell_type": "code",
   "execution_count": null,
   "id": "075cad29",
   "metadata": {},
   "outputs": [],
   "source": [
    "('AVAX: {:.02f}, USDC: {:.02f}, aAvaUSDC: {:.02f}'\n",
    " .format(acc.balance() / (10 ** 18), \n",
    "         usdc.balanceOf(acc.address) / (10 ** usdc.decimals()),\n",
    "         aAvaUSDC.balanceOf(acc.address) / (10 ** aAvaUSDC.decimals())))"
   ]
  },
  {
   "cell_type": "markdown",
   "id": "9232efc3",
   "metadata": {},
   "source": [
    "#### deposit $1"
   ]
  },
  {
   "cell_type": "code",
   "execution_count": null,
   "id": "401e47f8",
   "metadata": {},
   "outputs": [],
   "source": [
    "txn = aave_pool.deposit(usdc.address, 1000000, acc.address, 0, {'from': acc})\n",
    "txn.wait(7)"
   ]
  },
  {
   "cell_type": "markdown",
   "id": "03e9e7f8",
   "metadata": {},
   "source": [
    "#### check account balances"
   ]
  },
  {
   "cell_type": "code",
   "execution_count": null,
   "id": "e1db809d",
   "metadata": {},
   "outputs": [],
   "source": [
    "('AVAX: {:.02f}, USDC: {:.02f}, aAvaUSDC: {:.02f}'\n",
    " .format(acc.balance() / (10 ** 18), \n",
    "         usdc.balanceOf(acc.address) / (10 ** usdc.decimals()),\n",
    "         aAvaUSDC.balanceOf(acc.address) / (10 ** aAvaUSDC.decimals())))"
   ]
  }
 ],
 "metadata": {
  "kernelspec": {
   "display_name": "Python 3 (ipykernel)",
   "language": "python",
   "name": "python3"
  },
  "language_info": {
   "codemirror_mode": {
    "name": "ipython",
    "version": 3
   },
   "file_extension": ".py",
   "mimetype": "text/x-python",
   "name": "python",
   "nbconvert_exporter": "python",
   "pygments_lexer": "ipython3",
   "version": "3.8.13"
  }
 },
 "nbformat": 4,
 "nbformat_minor": 5
}
